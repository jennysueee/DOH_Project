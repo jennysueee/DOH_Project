{
 "cells": [
  {
   "cell_type": "code",
   "execution_count": 142,
   "metadata": {},
   "outputs": [],
   "source": [
    "import pandas as pd\n",
    "\n",
    "import numpy as np"
   ]
  },
  {
   "cell_type": "code",
   "execution_count": 143,
   "metadata": {},
   "outputs": [
    {
     "data": {
      "text/html": [
       "<div>\n",
       "<style scoped>\n",
       "    .dataframe tbody tr th:only-of-type {\n",
       "        vertical-align: middle;\n",
       "    }\n",
       "\n",
       "    .dataframe tbody tr th {\n",
       "        vertical-align: top;\n",
       "    }\n",
       "\n",
       "    .dataframe thead th {\n",
       "        text-align: right;\n",
       "    }\n",
       "</style>\n",
       "<table border=\"1\" class=\"dataframe\">\n",
       "  <thead>\n",
       "    <tr style=\"text-align: right;\">\n",
       "      <th></th>\n",
       "      <th>DBA</th>\n",
       "      <th>BORO</th>\n",
       "      <th>CUISINE DESCRIPTION</th>\n",
       "      <th>VIOLATION CODE</th>\n",
       "      <th>SCORE</th>\n",
       "      <th>GRADE</th>\n",
       "      <th>Latitude</th>\n",
       "      <th>Longitude</th>\n",
       "    </tr>\n",
       "  </thead>\n",
       "  <tbody>\n",
       "    <tr>\n",
       "      <th>0</th>\n",
       "      <td>YANKEE JZ PIZZA</td>\n",
       "      <td>Bronx</td>\n",
       "      <td>Pizza</td>\n",
       "      <td>10F</td>\n",
       "      <td>17.0</td>\n",
       "      <td>B</td>\n",
       "      <td>40.829178</td>\n",
       "      <td>-73.875707</td>\n",
       "    </tr>\n",
       "    <tr>\n",
       "      <th>1</th>\n",
       "      <td>ARIANA KEBAB HOUSE</td>\n",
       "      <td>Manhattan</td>\n",
       "      <td>Afghan</td>\n",
       "      <td>10B</td>\n",
       "      <td>5.0</td>\n",
       "      <td>A</td>\n",
       "      <td>40.764993</td>\n",
       "      <td>-73.987856</td>\n",
       "    </tr>\n",
       "    <tr>\n",
       "      <th>2</th>\n",
       "      <td>TAP NYC</td>\n",
       "      <td>Manhattan</td>\n",
       "      <td>Café/Coffee/Tea</td>\n",
       "      <td>08C</td>\n",
       "      <td>20.0</td>\n",
       "      <td>NaN</td>\n",
       "      <td>40.777716</td>\n",
       "      <td>-73.978556</td>\n",
       "    </tr>\n",
       "    <tr>\n",
       "      <th>3</th>\n",
       "      <td>GEORGES RESTAURANT</td>\n",
       "      <td>Brooklyn</td>\n",
       "      <td>American</td>\n",
       "      <td>10F</td>\n",
       "      <td>7.0</td>\n",
       "      <td>A</td>\n",
       "      <td>40.641088</td>\n",
       "      <td>-74.014474</td>\n",
       "    </tr>\n",
       "    <tr>\n",
       "      <th>4</th>\n",
       "      <td>Q &amp; I BAKERY</td>\n",
       "      <td>Brooklyn</td>\n",
       "      <td>Bakery</td>\n",
       "      <td>06C</td>\n",
       "      <td>22.0</td>\n",
       "      <td>NaN</td>\n",
       "      <td>40.628482</td>\n",
       "      <td>-74.006099</td>\n",
       "    </tr>\n",
       "  </tbody>\n",
       "</table>\n",
       "</div>"
      ],
      "text/plain": [
       "                  DBA       BORO CUISINE DESCRIPTION VIOLATION CODE  SCORE  \\\n",
       "0     YANKEE JZ PIZZA      Bronx               Pizza            10F   17.0   \n",
       "1  ARIANA KEBAB HOUSE  Manhattan              Afghan            10B    5.0   \n",
       "2             TAP NYC  Manhattan     Café/Coffee/Tea            08C   20.0   \n",
       "3  GEORGES RESTAURANT   Brooklyn            American            10F    7.0   \n",
       "4        Q & I BAKERY   Brooklyn              Bakery            06C   22.0   \n",
       "\n",
       "  GRADE   Latitude  Longitude  \n",
       "0     B  40.829178 -73.875707  \n",
       "1     A  40.764993 -73.987856  \n",
       "2   NaN  40.777716 -73.978556  \n",
       "3     A  40.641088 -74.014474  \n",
       "4   NaN  40.628482 -74.006099  "
      ]
     },
     "execution_count": 143,
     "metadata": {},
     "output_type": "execute_result"
    }
   ],
   "source": [
    "df = pd.read_csv(\"./DOHMH_New_York_City_Restaurant_Inspection_Results.csv\")\n",
    "df.head()"
   ]
  },
  {
   "cell_type": "code",
   "execution_count": 144,
   "metadata": {},
   "outputs": [
    {
     "data": {
      "text/plain": [
       "(401346, 8)"
      ]
     },
     "execution_count": 144,
     "metadata": {},
     "output_type": "execute_result"
    }
   ],
   "source": [
    "df.shape\n"
   ]
  },
  {
   "cell_type": "code",
   "execution_count": 145,
   "metadata": {},
   "outputs": [
    {
     "data": {
      "text/plain": [
       "DBA                     object\n",
       "BORO                    object\n",
       "CUISINE DESCRIPTION     object\n",
       "VIOLATION CODE          object\n",
       "SCORE                  float64\n",
       "GRADE                   object\n",
       "Latitude               float64\n",
       "Longitude              float64\n",
       "dtype: object"
      ]
     },
     "execution_count": 145,
     "metadata": {},
     "output_type": "execute_result"
    }
   ],
   "source": [
    "df.dtypes"
   ]
  },
  {
   "cell_type": "code",
   "execution_count": null,
   "metadata": {},
   "outputs": [],
   "source": []
  },
  {
   "cell_type": "code",
   "execution_count": 146,
   "metadata": {},
   "outputs": [
    {
     "data": {
      "text/plain": [
       "Index(['DBA', 'BORO', 'CUISINE DESCRIPTION', 'VIOLATION CODE', 'SCORE',\n",
       "       'GRADE', 'Latitude', 'Longitude'],\n",
       "      dtype='object')"
      ]
     },
     "execution_count": 146,
     "metadata": {},
     "output_type": "execute_result"
    }
   ],
   "source": [
    "df.columns"
   ]
  },
  {
   "cell_type": "code",
   "execution_count": 147,
   "metadata": {},
   "outputs": [
    {
     "data": {
      "text/plain": [
       "Index(['Name', 'Borough', 'Cuisine', 'Violation Code', 'Score', 'Grade',\n",
       "       'Latitude', 'Longitude'],\n",
       "      dtype='object')"
      ]
     },
     "execution_count": 147,
     "metadata": {},
     "output_type": "execute_result"
    }
   ],
   "source": [
    "df = df.rename(columns={\"DBA\":\"Name\",\"BORO\":\"Borough\", \"CUISINE DESCRIPTION\":\"Cuisine\", \"VIOLATION CODE\":\"Violation Code\", \"SCORE\":\"Score\", \"GRADE\":\"Grade\"})\n",
    "\n",
    "df.columns"
   ]
  },
  {
   "cell_type": "code",
   "execution_count": 148,
   "metadata": {},
   "outputs": [
    {
     "data": {
      "text/html": [
       "<div>\n",
       "<style scoped>\n",
       "    .dataframe tbody tr th:only-of-type {\n",
       "        vertical-align: middle;\n",
       "    }\n",
       "\n",
       "    .dataframe tbody tr th {\n",
       "        vertical-align: top;\n",
       "    }\n",
       "\n",
       "    .dataframe thead th {\n",
       "        text-align: right;\n",
       "    }\n",
       "</style>\n",
       "<table border=\"1\" class=\"dataframe\">\n",
       "  <thead>\n",
       "    <tr style=\"text-align: right;\">\n",
       "      <th></th>\n",
       "      <th>Name</th>\n",
       "      <th>Borough</th>\n",
       "      <th>Cuisine</th>\n",
       "      <th>Violation Code</th>\n",
       "      <th>Score</th>\n",
       "      <th>Grade</th>\n",
       "      <th>Latitude</th>\n",
       "      <th>Longitude</th>\n",
       "    </tr>\n",
       "  </thead>\n",
       "  <tbody>\n",
       "    <tr>\n",
       "      <th>0</th>\n",
       "      <td>YANKEE JZ PIZZA</td>\n",
       "      <td>Bronx</td>\n",
       "      <td>Pizza</td>\n",
       "      <td>10F</td>\n",
       "      <td>17.0</td>\n",
       "      <td>B</td>\n",
       "      <td>40.829178</td>\n",
       "      <td>-73.875707</td>\n",
       "    </tr>\n",
       "    <tr>\n",
       "      <th>1</th>\n",
       "      <td>ARIANA KEBAB HOUSE</td>\n",
       "      <td>Manhattan</td>\n",
       "      <td>Afghan</td>\n",
       "      <td>10B</td>\n",
       "      <td>5.0</td>\n",
       "      <td>A</td>\n",
       "      <td>40.764993</td>\n",
       "      <td>-73.987856</td>\n",
       "    </tr>\n",
       "    <tr>\n",
       "      <th>2</th>\n",
       "      <td>TAP NYC</td>\n",
       "      <td>Manhattan</td>\n",
       "      <td>Café/Coffee/Tea</td>\n",
       "      <td>08C</td>\n",
       "      <td>20.0</td>\n",
       "      <td>NaN</td>\n",
       "      <td>40.777716</td>\n",
       "      <td>-73.978556</td>\n",
       "    </tr>\n",
       "    <tr>\n",
       "      <th>3</th>\n",
       "      <td>GEORGES RESTAURANT</td>\n",
       "      <td>Brooklyn</td>\n",
       "      <td>American</td>\n",
       "      <td>10F</td>\n",
       "      <td>7.0</td>\n",
       "      <td>A</td>\n",
       "      <td>40.641088</td>\n",
       "      <td>-74.014474</td>\n",
       "    </tr>\n",
       "    <tr>\n",
       "      <th>4</th>\n",
       "      <td>Q &amp; I BAKERY</td>\n",
       "      <td>Brooklyn</td>\n",
       "      <td>Bakery</td>\n",
       "      <td>06C</td>\n",
       "      <td>22.0</td>\n",
       "      <td>NaN</td>\n",
       "      <td>40.628482</td>\n",
       "      <td>-74.006099</td>\n",
       "    </tr>\n",
       "  </tbody>\n",
       "</table>\n",
       "</div>"
      ],
      "text/plain": [
       "                 Name    Borough          Cuisine Violation Code  Score Grade  \\\n",
       "0     YANKEE JZ PIZZA      Bronx            Pizza            10F   17.0     B   \n",
       "1  ARIANA KEBAB HOUSE  Manhattan           Afghan            10B    5.0     A   \n",
       "2             TAP NYC  Manhattan  Café/Coffee/Tea            08C   20.0   NaN   \n",
       "3  GEORGES RESTAURANT   Brooklyn         American            10F    7.0     A   \n",
       "4        Q & I BAKERY   Brooklyn           Bakery            06C   22.0   NaN   \n",
       "\n",
       "    Latitude  Longitude  \n",
       "0  40.829178 -73.875707  \n",
       "1  40.764993 -73.987856  \n",
       "2  40.777716 -73.978556  \n",
       "3  40.641088 -74.014474  \n",
       "4  40.628482 -74.006099  "
      ]
     },
     "execution_count": 148,
     "metadata": {},
     "output_type": "execute_result"
    }
   ],
   "source": [
    "df = df.dropna(subset=['Violation Code','Score'])\n",
    "df.head()"
   ]
  },
  {
   "cell_type": "code",
   "execution_count": 149,
   "metadata": {},
   "outputs": [
    {
     "data": {
      "text/plain": [
       "(382896, 8)"
      ]
     },
     "execution_count": 149,
     "metadata": {},
     "output_type": "execute_result"
    }
   ],
   "source": [
    "df.shape"
   ]
  },
  {
   "cell_type": "code",
   "execution_count": 150,
   "metadata": {},
   "outputs": [
    {
     "data": {
      "text/plain": [
       "(377719, 8)"
      ]
     },
     "execution_count": 150,
     "metadata": {},
     "output_type": "execute_result"
    }
   ],
   "source": [
    "df = df[df.Latitude != 0]\n",
    "df = df[df.Longitude != 0]\n",
    "df.shape"
   ]
  },
  {
   "cell_type": "code",
   "execution_count": 151,
   "metadata": {},
   "outputs": [
    {
     "data": {
      "text/html": [
       "<div>\n",
       "<style scoped>\n",
       "    .dataframe tbody tr th:only-of-type {\n",
       "        vertical-align: middle;\n",
       "    }\n",
       "\n",
       "    .dataframe tbody tr th {\n",
       "        vertical-align: top;\n",
       "    }\n",
       "\n",
       "    .dataframe thead th {\n",
       "        text-align: right;\n",
       "    }\n",
       "</style>\n",
       "<table border=\"1\" class=\"dataframe\">\n",
       "  <thead>\n",
       "    <tr style=\"text-align: right;\">\n",
       "      <th></th>\n",
       "      <th>Name</th>\n",
       "      <th>Borough</th>\n",
       "      <th>Cuisine</th>\n",
       "      <th>Violation Code</th>\n",
       "      <th>Score</th>\n",
       "      <th>Grade</th>\n",
       "      <th>Latitude</th>\n",
       "      <th>Longitude</th>\n",
       "    </tr>\n",
       "  </thead>\n",
       "  <tbody>\n",
       "    <tr>\n",
       "      <th>0</th>\n",
       "      <td>YANKEE JZ PIZZA</td>\n",
       "      <td>Bronx</td>\n",
       "      <td>Pizza</td>\n",
       "      <td>10F</td>\n",
       "      <td>17.0</td>\n",
       "      <td>B</td>\n",
       "      <td>40.829178</td>\n",
       "      <td>-73.875707</td>\n",
       "    </tr>\n",
       "    <tr>\n",
       "      <th>1</th>\n",
       "      <td>ARIANA KEBAB HOUSE</td>\n",
       "      <td>Manhattan</td>\n",
       "      <td>Afghan</td>\n",
       "      <td>10B</td>\n",
       "      <td>5.0</td>\n",
       "      <td>A</td>\n",
       "      <td>40.764993</td>\n",
       "      <td>-73.987856</td>\n",
       "    </tr>\n",
       "    <tr>\n",
       "      <th>2</th>\n",
       "      <td>TAP NYC</td>\n",
       "      <td>Manhattan</td>\n",
       "      <td>Café/Coffee/Tea</td>\n",
       "      <td>08C</td>\n",
       "      <td>20.0</td>\n",
       "      <td>NaN</td>\n",
       "      <td>40.777716</td>\n",
       "      <td>-73.978556</td>\n",
       "    </tr>\n",
       "    <tr>\n",
       "      <th>3</th>\n",
       "      <td>GEORGES RESTAURANT</td>\n",
       "      <td>Brooklyn</td>\n",
       "      <td>American</td>\n",
       "      <td>10F</td>\n",
       "      <td>7.0</td>\n",
       "      <td>A</td>\n",
       "      <td>40.641088</td>\n",
       "      <td>-74.014474</td>\n",
       "    </tr>\n",
       "    <tr>\n",
       "      <th>4</th>\n",
       "      <td>Q &amp; I BAKERY</td>\n",
       "      <td>Brooklyn</td>\n",
       "      <td>Bakery</td>\n",
       "      <td>06C</td>\n",
       "      <td>22.0</td>\n",
       "      <td>NaN</td>\n",
       "      <td>40.628482</td>\n",
       "      <td>-74.006099</td>\n",
       "    </tr>\n",
       "  </tbody>\n",
       "</table>\n",
       "</div>"
      ],
      "text/plain": [
       "                 Name    Borough          Cuisine Violation Code  Score Grade  \\\n",
       "0     YANKEE JZ PIZZA      Bronx            Pizza            10F   17.0     B   \n",
       "1  ARIANA KEBAB HOUSE  Manhattan           Afghan            10B    5.0     A   \n",
       "2             TAP NYC  Manhattan  Café/Coffee/Tea            08C   20.0   NaN   \n",
       "3  GEORGES RESTAURANT   Brooklyn         American            10F    7.0     A   \n",
       "4        Q & I BAKERY   Brooklyn           Bakery            06C   22.0   NaN   \n",
       "\n",
       "    Latitude  Longitude  \n",
       "0  40.829178 -73.875707  \n",
       "1  40.764993 -73.987856  \n",
       "2  40.777716 -73.978556  \n",
       "3  40.641088 -74.014474  \n",
       "4  40.628482 -74.006099  "
      ]
     },
     "execution_count": 151,
     "metadata": {},
     "output_type": "execute_result"
    }
   ],
   "source": [
    "df.head()"
   ]
  },
  {
   "cell_type": "code",
   "execution_count": 152,
   "metadata": {},
   "outputs": [
    {
     "data": {
      "text/html": [
       "<div>\n",
       "<style scoped>\n",
       "    .dataframe tbody tr th:only-of-type {\n",
       "        vertical-align: middle;\n",
       "    }\n",
       "\n",
       "    .dataframe tbody tr th {\n",
       "        vertical-align: top;\n",
       "    }\n",
       "\n",
       "    .dataframe thead th {\n",
       "        text-align: right;\n",
       "    }\n",
       "</style>\n",
       "<table border=\"1\" class=\"dataframe\">\n",
       "  <thead>\n",
       "    <tr style=\"text-align: right;\">\n",
       "      <th></th>\n",
       "      <th>Name</th>\n",
       "      <th>Borough</th>\n",
       "      <th>Cuisine</th>\n",
       "      <th>Violation Code</th>\n",
       "      <th>Score</th>\n",
       "      <th>Grade</th>\n",
       "      <th>Latitude</th>\n",
       "      <th>Longitude</th>\n",
       "    </tr>\n",
       "  </thead>\n",
       "  <tbody>\n",
       "    <tr>\n",
       "      <th>0</th>\n",
       "      <td>YANKEE JZ PIZZA</td>\n",
       "      <td>Bronx</td>\n",
       "      <td>Pizza</td>\n",
       "      <td>10F</td>\n",
       "      <td>17.0</td>\n",
       "      <td>B</td>\n",
       "      <td>40.829178</td>\n",
       "      <td>-73.875707</td>\n",
       "    </tr>\n",
       "    <tr>\n",
       "      <th>1</th>\n",
       "      <td>ARIANA KEBAB HOUSE</td>\n",
       "      <td>Manhattan</td>\n",
       "      <td>Afghan</td>\n",
       "      <td>10B</td>\n",
       "      <td>5.0</td>\n",
       "      <td>A</td>\n",
       "      <td>40.764993</td>\n",
       "      <td>-73.987856</td>\n",
       "    </tr>\n",
       "    <tr>\n",
       "      <th>2</th>\n",
       "      <td>TAP NYC</td>\n",
       "      <td>Manhattan</td>\n",
       "      <td>Café/Coffee/Tea</td>\n",
       "      <td>08C</td>\n",
       "      <td>20.0</td>\n",
       "      <td>NaN</td>\n",
       "      <td>40.777716</td>\n",
       "      <td>-73.978556</td>\n",
       "    </tr>\n",
       "    <tr>\n",
       "      <th>3</th>\n",
       "      <td>GEORGES RESTAURANT</td>\n",
       "      <td>Brooklyn</td>\n",
       "      <td>American</td>\n",
       "      <td>10F</td>\n",
       "      <td>7.0</td>\n",
       "      <td>A</td>\n",
       "      <td>40.641088</td>\n",
       "      <td>-74.014474</td>\n",
       "    </tr>\n",
       "    <tr>\n",
       "      <th>4</th>\n",
       "      <td>Q &amp; I BAKERY</td>\n",
       "      <td>Brooklyn</td>\n",
       "      <td>Bakery</td>\n",
       "      <td>06C</td>\n",
       "      <td>22.0</td>\n",
       "      <td>NaN</td>\n",
       "      <td>40.628482</td>\n",
       "      <td>-74.006099</td>\n",
       "    </tr>\n",
       "  </tbody>\n",
       "</table>\n",
       "</div>"
      ],
      "text/plain": [
       "                 Name    Borough          Cuisine Violation Code  Score Grade  \\\n",
       "0     YANKEE JZ PIZZA      Bronx            Pizza            10F   17.0     B   \n",
       "1  ARIANA KEBAB HOUSE  Manhattan           Afghan            10B    5.0     A   \n",
       "2             TAP NYC  Manhattan  Café/Coffee/Tea            08C   20.0   NaN   \n",
       "3  GEORGES RESTAURANT   Brooklyn         American            10F    7.0     A   \n",
       "4        Q & I BAKERY   Brooklyn           Bakery            06C   22.0   NaN   \n",
       "\n",
       "    Latitude  Longitude  \n",
       "0  40.829178 -73.875707  \n",
       "1  40.764993 -73.987856  \n",
       "2  40.777716 -73.978556  \n",
       "3  40.641088 -74.014474  \n",
       "4  40.628482 -74.006099  "
      ]
     },
     "execution_count": 152,
     "metadata": {},
     "output_type": "execute_result"
    }
   ],
   "source": [
    "df.loc[df.Score == 100, 'Grade'] == \"Closed\"\n",
    "df.loc[df.Score > 100, 'Grade'] == \"Closed\"\n",
    "df.head()"
   ]
  },
  {
   "cell_type": "code",
   "execution_count": null,
   "metadata": {},
   "outputs": [],
   "source": []
  },
  {
   "cell_type": "code",
   "execution_count": null,
   "metadata": {},
   "outputs": [],
   "source": []
  },
  {
   "cell_type": "code",
   "execution_count": null,
   "metadata": {},
   "outputs": [],
   "source": []
  },
  {
   "cell_type": "code",
   "execution_count": null,
   "metadata": {},
   "outputs": [],
   "source": []
  },
  {
   "cell_type": "code",
   "execution_count": null,
   "metadata": {},
   "outputs": [],
   "source": []
  },
  {
   "cell_type": "code",
   "execution_count": null,
   "metadata": {},
   "outputs": [],
   "source": []
  }
 ],
 "metadata": {
  "kernelspec": {
   "display_name": "Python 3",
   "language": "python",
   "name": "python3"
  },
  "language_info": {
   "codemirror_mode": {
    "name": "ipython",
    "version": 3
   },
   "file_extension": ".py",
   "mimetype": "text/x-python",
   "name": "python",
   "nbconvert_exporter": "python",
   "pygments_lexer": "ipython3",
   "version": "3.7.4"
  }
 },
 "nbformat": 4,
 "nbformat_minor": 2
}
